{
 "cells": [
  {
   "cell_type": "markdown",
   "id": "37af21bb",
   "metadata": {
    "papermill": {
     "duration": 0.043777,
     "end_time": "2022-01-07T14:52:22.488178",
     "exception": false,
     "start_time": "2022-01-07T14:52:22.444401",
     "status": "completed"
    },
    "tags": []
   },
   "source": [
    "<center><h1 style=\"font-size:35px; font-family: 'Times New Roman'; letter-spacing: 0.1em;\">House Price Prediction 🏡</h1></center>"
   ]
  },
  {
   "cell_type": "markdown",
   "id": "95ebcff7",
   "metadata": {
    "papermill": {
     "duration": 0.041518,
     "end_time": "2022-01-07T14:52:22.572186",
     "exception": false,
     "start_time": "2022-01-07T14:52:22.530668",
     "status": "completed"
    },
    "tags": []
   },
   "source": [
    "<center><img src=\"https://images.unsplash.com/photo-1516156008625-3a9d6067fab5?ixlib=rb-1.2.1&ixid=MnwxMjA3fDB8MHxwaG90by1wYWdlfHx8fGVufDB8fHx8&auto=format&fit=crop&w=870&q=80\"></center>"
   ]
  },
  {
   "cell_type": "markdown",
   "id": "6874a7d8",
   "metadata": {
    "papermill": {
     "duration": 0.042066,
     "end_time": "2022-01-07T14:52:22.827026",
     "exception": false,
     "start_time": "2022-01-07T14:52:22.784960",
     "status": "completed"
    },
    "tags": []
   },
   "source": [
    "<h1 style=\"font-family: 'Times New Roman'; letter-spacing: 0.08em;\">Importing the Essential Libraries, Metrics</h1>"
   ]
  },
  {
   "cell_type": "code",
   "execution_count": 1,
   "id": "5f6d09dc",
   "metadata": {
    "_cell_guid": "b1076dfc-b9ad-4769-8c92-a6c4dae69d19",
    "_uuid": "8f2839f25d086af736a60e9eeb907d3b93b6e0e5",
    "execution": {
     "iopub.execute_input": "2022-01-07T14:52:22.921022Z",
     "iopub.status.busy": "2022-01-07T14:52:22.919688Z",
     "iopub.status.idle": "2022-01-07T14:52:24.469036Z",
     "shell.execute_reply": "2022-01-07T14:52:24.468249Z",
     "shell.execute_reply.started": "2022-01-07T14:42:49.152057Z"
    },
    "papermill": {
     "duration": 1.598972,
     "end_time": "2022-01-07T14:52:24.469221",
     "exception": false,
     "start_time": "2022-01-07T14:52:22.870249",
     "status": "completed"
    },
    "tags": []
   },
   "outputs": [],
   "source": [
    "import numpy as np\n",
    "import pandas as pd\n",
    "import seaborn as sns\n",
    "import matplotlib.pyplot as plt\n",
    "import warnings\n",
    "warnings.filterwarnings(\"ignore\")\n",
    "\n",
    "from sklearn.model_selection import train_test_split, cross_val_score\n",
    "from sklearn.preprocessing import StandardScaler\n",
    "from sklearn.metrics import r2_score, mean_absolute_error, mean_squared_error\n",
    "\n",
    "from sklearn.linear_model import LinearRegression\n",
    "from sklearn.linear_model import Ridge\n",
    "from sklearn.linear_model import Lasso\n",
    "from sklearn.linear_model import ElasticNet\n",
    "from sklearn.ensemble import RandomForestRegressor\n",
    "from sklearn.svm import SVR\n",
    "from xgboost import XGBRegressor\n",
    "from sklearn.preprocessing import PolynomialFeatures"
   ]
  },
  {
   "cell_type": "markdown",
   "id": "e61a9667",
   "metadata": {
    "papermill": {
     "duration": 0.041668,
     "end_time": "2022-01-07T14:52:24.554273",
     "exception": false,
     "start_time": "2022-01-07T14:52:24.512605",
     "status": "completed"
    },
    "tags": []
   },
   "source": [
    "<h1 style=\"font-family: 'Times New Roman'; letter-spacing: 0.08em;\">Loading the Data</h1>"
   ]
  },
  {
   "cell_type": "code",
   "execution_count": 2,
   "id": "4e34fe16",
   "metadata": {
    "execution": {
     "iopub.execute_input": "2022-01-07T14:52:24.644656Z",
     "iopub.status.busy": "2022-01-07T14:52:24.643921Z",
     "iopub.status.idle": "2022-01-07T14:52:24.692936Z",
     "shell.execute_reply": "2022-01-07T14:52:24.693646Z",
     "shell.execute_reply.started": "2022-01-07T14:42:49.186163Z"
    },
    "papermill": {
     "duration": 0.097778,
     "end_time": "2022-01-07T14:52:24.693909",
     "exception": false,
     "start_time": "2022-01-07T14:52:24.596131",
     "status": "completed"
    },
    "tags": []
   },
   "outputs": [],
   "source": [
    "df = pd.read_csv(\"Property_master.csv\")"
   ]
  },
  {
   "cell_type": "markdown",
   "id": "41fd4bbb",
   "metadata": {
    "papermill": {
     "duration": 0.042834,
     "end_time": "2022-01-07T14:52:24.780980",
     "exception": false,
     "start_time": "2022-01-07T14:52:24.738146",
     "status": "completed"
    },
    "tags": []
   },
   "source": [
    "<h1 style=\"font-family: 'Times New Roman'; letter-spacing: 0.08em;\">Exploratory Data Analysis</h1>"
   ]
  },
  {
   "cell_type": "markdown",
   "id": "04a36b0b",
   "metadata": {
    "papermill": {
     "duration": 0.044086,
     "end_time": "2022-01-07T14:52:24.867536",
     "exception": false,
     "start_time": "2022-01-07T14:52:24.823450",
     "status": "completed"
    },
    "tags": []
   },
   "source": [
    "***Taking a look at the first 5 rows of the dataset***"
   ]
  },
  {
   "cell_type": "code",
   "execution_count": 3,
   "id": "2414310c",
   "metadata": {
    "execution": {
     "iopub.execute_input": "2022-01-07T14:52:24.956756Z",
     "iopub.status.busy": "2022-01-07T14:52:24.956054Z",
     "iopub.status.idle": "2022-01-07T14:52:24.997619Z",
     "shell.execute_reply": "2022-01-07T14:52:24.998140Z",
     "shell.execute_reply.started": "2022-01-07T14:42:49.217104Z"
    },
    "papermill": {
     "duration": 0.087441,
     "end_time": "2022-01-07T14:52:24.998345",
     "exception": false,
     "start_time": "2022-01-07T14:52:24.910904",
     "status": "completed"
    },
    "tags": []
   },
   "outputs": [
    {
     "data": {
      "text/html": [
       "<div>\n",
       "<style scoped>\n",
       "    .dataframe tbody tr th:only-of-type {\n",
       "        vertical-align: middle;\n",
       "    }\n",
       "\n",
       "    .dataframe tbody tr th {\n",
       "        vertical-align: top;\n",
       "    }\n",
       "\n",
       "    .dataframe thead th {\n",
       "        text-align: right;\n",
       "    }\n",
       "</style>\n",
       "<table border=\"1\" class=\"dataframe\">\n",
       "  <thead>\n",
       "    <tr style=\"text-align: right;\">\n",
       "      <th></th>\n",
       "      <th>index_no</th>\n",
       "      <th>property_address</th>\n",
       "      <th>bedrooms</th>\n",
       "      <th>bathrooms</th>\n",
       "      <th>agent_name</th>\n",
       "      <th>area_code</th>\n",
       "      <th>telephone</th>\n",
       "      <th>price</th>\n",
       "      <th>media_description</th>\n",
       "      <th>media_category_id</th>\n",
       "      <th>...</th>\n",
       "      <th>org_ph_no</th>\n",
       "      <th>org_designation</th>\n",
       "      <th>prop_zone_type</th>\n",
       "      <th>prop_parking</th>\n",
       "      <th>prop_parking_space</th>\n",
       "      <th>prop_type</th>\n",
       "      <th>province_name</th>\n",
       "      <th>latitude</th>\n",
       "      <th>longitude</th>\n",
       "      <th>postcode</th>\n",
       "    </tr>\n",
       "  </thead>\n",
       "  <tbody>\n",
       "    <tr>\n",
       "      <th>0</th>\n",
       "      <td>345</td>\n",
       "      <td>1585 Rue du Godendard|Drummondville, Quebec J2...</td>\n",
       "      <td>NaN</td>\n",
       "      <td>NaN</td>\n",
       "      <td>Steve Boisvert</td>\n",
       "      <td>819.0</td>\n",
       "      <td>4610475.0</td>\n",
       "      <td>65000</td>\n",
       "      <td>AlternateFeatureSheetWebsite</td>\n",
       "      <td>1.0</td>\n",
       "      <td>...</td>\n",
       "      <td>4743134.0</td>\n",
       "      <td>Real Estate Agency</td>\n",
       "      <td>Residential</td>\n",
       "      <td>NaN</td>\n",
       "      <td>NaN</td>\n",
       "      <td>Vacant Land</td>\n",
       "      <td>Quebec</td>\n",
       "      <td>45.851098</td>\n",
       "      <td>-72.369032</td>\n",
       "      <td>J2B7T5</td>\n",
       "    </tr>\n",
       "    <tr>\n",
       "      <th>1</th>\n",
       "      <td>159</td>\n",
       "      <td>#4 1955 Northern Flicker Court,|Kelowna, Briti...</td>\n",
       "      <td>2.0</td>\n",
       "      <td>3.0</td>\n",
       "      <td>Mike Jamieson</td>\n",
       "      <td>604.0</td>\n",
       "      <td>3495780.0</td>\n",
       "      <td>849000</td>\n",
       "      <td>VideoTourWebsite</td>\n",
       "      <td>2.0</td>\n",
       "      <td>...</td>\n",
       "      <td>8176506.0</td>\n",
       "      <td>NaN</td>\n",
       "      <td>NaN</td>\n",
       "      <td>Attached Garage</td>\n",
       "      <td>2.0</td>\n",
       "      <td>Single Family</td>\n",
       "      <td>British Columbia</td>\n",
       "      <td>49.983067</td>\n",
       "      <td>-119.437400</td>\n",
       "      <td>V1V0G2</td>\n",
       "    </tr>\n",
       "    <tr>\n",
       "      <th>2</th>\n",
       "      <td>266</td>\n",
       "      <td>2188 Peters Road,|West Kelowna, British Columb...</td>\n",
       "      <td>4.0</td>\n",
       "      <td>4.0</td>\n",
       "      <td>Anthony Bastiaanssen</td>\n",
       "      <td>250.0</td>\n",
       "      <td>7188669.0</td>\n",
       "      <td>1075000</td>\n",
       "      <td>VideoTourWebsite</td>\n",
       "      <td>2.0</td>\n",
       "      <td>...</td>\n",
       "      <td>6206788.0</td>\n",
       "      <td>NaN</td>\n",
       "      <td>NaN</td>\n",
       "      <td>Attached Garage (2)</td>\n",
       "      <td>6.0</td>\n",
       "      <td>Single Family</td>\n",
       "      <td>British Columbia</td>\n",
       "      <td>49.830177</td>\n",
       "      <td>-119.613571</td>\n",
       "      <td>V4T2C3</td>\n",
       "    </tr>\n",
       "    <tr>\n",
       "      <th>3</th>\n",
       "      <td>314</td>\n",
       "      <td>#116 1850 Shannon Lake Road,|West Kelowna, Bri...</td>\n",
       "      <td>2.0</td>\n",
       "      <td>2.0</td>\n",
       "      <td>Rebecca April</td>\n",
       "      <td>250.0</td>\n",
       "      <td>8595848.0</td>\n",
       "      <td>449900</td>\n",
       "      <td>AlternateFeatureSheetWebsite</td>\n",
       "      <td>1.0</td>\n",
       "      <td>...</td>\n",
       "      <td>7175000.0</td>\n",
       "      <td>NaN</td>\n",
       "      <td>NaN</td>\n",
       "      <td>Carport (1)</td>\n",
       "      <td>4.0</td>\n",
       "      <td>Single Family</td>\n",
       "      <td>British Columbia</td>\n",
       "      <td>49.865444</td>\n",
       "      <td>-119.591808</td>\n",
       "      <td>V4T1L6</td>\n",
       "    </tr>\n",
       "    <tr>\n",
       "      <th>4</th>\n",
       "      <td>267</td>\n",
       "      <td>3076 Quail Crescent,|Kelowna, British Columbia...</td>\n",
       "      <td>3.0</td>\n",
       "      <td>4.0</td>\n",
       "      <td>Kristen Tranfield</td>\n",
       "      <td>250.0</td>\n",
       "      <td>8781393.0</td>\n",
       "      <td>1150000</td>\n",
       "      <td>NaN</td>\n",
       "      <td>NaN</td>\n",
       "      <td>...</td>\n",
       "      <td>8627675.0</td>\n",
       "      <td>NaN</td>\n",
       "      <td>NaN</td>\n",
       "      <td>Attached Garage (2)</td>\n",
       "      <td>4.0</td>\n",
       "      <td>Single Family</td>\n",
       "      <td>British Columbia</td>\n",
       "      <td>49.967945</td>\n",
       "      <td>-119.401396</td>\n",
       "      <td>V1V2A1</td>\n",
       "    </tr>\n",
       "  </tbody>\n",
       "</table>\n",
       "<p>5 rows × 34 columns</p>\n",
       "</div>"
      ],
      "text/plain": [
       "   index_no                                   property_address  bedrooms  \\\n",
       "0       345  1585 Rue du Godendard|Drummondville, Quebec J2...       NaN   \n",
       "1       159  #4 1955 Northern Flicker Court,|Kelowna, Briti...       2.0   \n",
       "2       266  2188 Peters Road,|West Kelowna, British Columb...       4.0   \n",
       "3       314  #116 1850 Shannon Lake Road,|West Kelowna, Bri...       2.0   \n",
       "4       267  3076 Quail Crescent,|Kelowna, British Columbia...       3.0   \n",
       "\n",
       "   bathrooms            agent_name  area_code  telephone    price  \\\n",
       "0        NaN        Steve Boisvert      819.0  4610475.0    65000   \n",
       "1        3.0         Mike Jamieson      604.0  3495780.0   849000   \n",
       "2        4.0  Anthony Bastiaanssen      250.0  7188669.0  1075000   \n",
       "3        2.0         Rebecca April      250.0  8595848.0   449900   \n",
       "4        4.0     Kristen Tranfield      250.0  8781393.0  1150000   \n",
       "\n",
       "              media_description  media_category_id  ...  org_ph_no  \\\n",
       "0  AlternateFeatureSheetWebsite                1.0  ...  4743134.0   \n",
       "1              VideoTourWebsite                2.0  ...  8176506.0   \n",
       "2              VideoTourWebsite                2.0  ...  6206788.0   \n",
       "3  AlternateFeatureSheetWebsite                1.0  ...  7175000.0   \n",
       "4                           NaN                NaN  ...  8627675.0   \n",
       "\n",
       "      org_designation prop_zone_type         prop_parking  prop_parking_space  \\\n",
       "0  Real Estate Agency    Residential                  NaN                 NaN   \n",
       "1                 NaN            NaN      Attached Garage                 2.0   \n",
       "2                 NaN            NaN  Attached Garage (2)                 6.0   \n",
       "3                 NaN            NaN          Carport (1)                 4.0   \n",
       "4                 NaN            NaN  Attached Garage (2)                 4.0   \n",
       "\n",
       "       prop_type     province_name   latitude   longitude postcode  \n",
       "0    Vacant Land            Quebec  45.851098  -72.369032   J2B7T5  \n",
       "1  Single Family  British Columbia  49.983067 -119.437400   V1V0G2  \n",
       "2  Single Family  British Columbia  49.830177 -119.613571   V4T2C3  \n",
       "3  Single Family  British Columbia  49.865444 -119.591808   V4T1L6  \n",
       "4  Single Family  British Columbia  49.967945 -119.401396   V1V2A1  \n",
       "\n",
       "[5 rows x 34 columns]"
      ]
     },
     "execution_count": 3,
     "metadata": {},
     "output_type": "execute_result"
    }
   ],
   "source": [
    "df.head()"
   ]
  },
  {
   "cell_type": "markdown",
   "id": "516c7384",
   "metadata": {
    "papermill": {
     "duration": 0.042852,
     "end_time": "2022-01-07T14:52:25.085983",
     "exception": false,
     "start_time": "2022-01-07T14:52:25.043131",
     "status": "completed"
    },
    "tags": []
   },
   "source": [
    "***Checking the shape—i.e. size—of the data***"
   ]
  },
  {
   "cell_type": "code",
   "execution_count": 4,
   "id": "3a4390d8",
   "metadata": {
    "execution": {
     "iopub.execute_input": "2022-01-07T14:52:25.178355Z",
     "iopub.status.busy": "2022-01-07T14:52:25.177500Z",
     "iopub.status.idle": "2022-01-07T14:52:25.180836Z",
     "shell.execute_reply": "2022-01-07T14:52:25.181359Z",
     "shell.execute_reply.started": "2022-01-07T14:42:49.245170Z"
    },
    "papermill": {
     "duration": 0.052437,
     "end_time": "2022-01-07T14:52:25.181575",
     "exception": false,
     "start_time": "2022-01-07T14:52:25.129138",
     "status": "completed"
    },
    "tags": []
   },
   "outputs": [
    {
     "data": {
      "text/plain": [
       "(404, 34)"
      ]
     },
     "execution_count": 4,
     "metadata": {},
     "output_type": "execute_result"
    }
   ],
   "source": [
    "df.shape"
   ]
  },
  {
   "cell_type": "markdown",
   "id": "70695842",
   "metadata": {
    "papermill": {
     "duration": 0.043403,
     "end_time": "2022-01-07T14:52:25.268687",
     "exception": false,
     "start_time": "2022-01-07T14:52:25.225284",
     "status": "completed"
    },
    "tags": []
   },
   "source": [
    "***Learning the dtypes of columns' and how many non-null values are there in those columns***"
   ]
  },
  {
   "cell_type": "code",
   "execution_count": 5,
   "id": "7b32ae31",
   "metadata": {
    "execution": {
     "iopub.execute_input": "2022-01-07T14:52:25.359665Z",
     "iopub.status.busy": "2022-01-07T14:52:25.358920Z",
     "iopub.status.idle": "2022-01-07T14:52:25.395846Z",
     "shell.execute_reply": "2022-01-07T14:52:25.396415Z",
     "shell.execute_reply.started": "2022-01-07T14:42:49.261264Z"
    },
    "papermill": {
     "duration": 0.084564,
     "end_time": "2022-01-07T14:52:25.396651",
     "exception": false,
     "start_time": "2022-01-07T14:52:25.312087",
     "status": "completed"
    },
    "tags": []
   },
   "outputs": [
    {
     "name": "stdout",
     "output_type": "stream",
     "text": [
      "<class 'pandas.core.frame.DataFrame'>\n",
      "RangeIndex: 404 entries, 0 to 403\n",
      "Data columns (total 34 columns):\n",
      " #   Column              Non-Null Count  Dtype  \n",
      "---  ------              --------------  -----  \n",
      " 0   index_no            404 non-null    int64  \n",
      " 1   property_address    404 non-null    object \n",
      " 2   bedrooms            383 non-null    float64\n",
      " 3   bathrooms           383 non-null    float64\n",
      " 4   agent_name          404 non-null    object \n",
      " 5   area_code           402 non-null    float64\n",
      " 6   telephone           402 non-null    float64\n",
      " 7   price               404 non-null    int64  \n",
      " 8   media_description   230 non-null    object \n",
      " 9   media_category_id   230 non-null    float64\n",
      " 10  media_category_url  230 non-null    object \n",
      " 11  media_video_type    127 non-null    object \n",
      " 12  mls_number          404 non-null    object \n",
      " 13  property_type       377 non-null    object \n",
      " 14  building_stories    262 non-null    float64\n",
      " 15  interior_size       289 non-null    object \n",
      " 16  exterior_size       24 non-null     object \n",
      " 17  agent_id            404 non-null    int64  \n",
      " 18  corporation_name    37 non-null     object \n",
      " 19  agent_position      324 non-null    object \n",
      " 20  org_name            404 non-null    object \n",
      " 21  org_address         404 non-null    object \n",
      " 22  org_id              404 non-null    int64  \n",
      " 23  org_type            404 non-null    object \n",
      " 24  org_ph_no           402 non-null    float64\n",
      " 25  org_designation     86 non-null     object \n",
      " 26  prop_zone_type      88 non-null     object \n",
      " 27  prop_parking        334 non-null    object \n",
      " 28  prop_parking_space  205 non-null    float64\n",
      " 29  prop_type           404 non-null    object \n",
      " 30  province_name       404 non-null    object \n",
      " 31  latitude            404 non-null    float64\n",
      " 32  longitude           404 non-null    float64\n",
      " 33  postcode            403 non-null    object \n",
      "dtypes: float64(10), int64(4), object(20)\n",
      "memory usage: 107.4+ KB\n"
     ]
    }
   ],
   "source": [
    "df.info()"
   ]
  },
  {
   "cell_type": "markdown",
   "id": "236aa98a",
   "metadata": {
    "papermill": {
     "duration": 0.043514,
     "end_time": "2022-01-07T14:52:25.483769",
     "exception": false,
     "start_time": "2022-01-07T14:52:25.440255",
     "status": "completed"
    },
    "tags": []
   },
   "source": [
    "***Getting the statistical summary of dataset***"
   ]
  },
  {
   "cell_type": "code",
   "execution_count": 6,
   "id": "e9c60632",
   "metadata": {
    "execution": {
     "iopub.execute_input": "2022-01-07T14:52:25.576394Z",
     "iopub.status.busy": "2022-01-07T14:52:25.575750Z",
     "iopub.status.idle": "2022-01-07T14:52:25.683342Z",
     "shell.execute_reply": "2022-01-07T14:52:25.683858Z",
     "shell.execute_reply.started": "2022-01-07T14:42:49.293081Z"
    },
    "papermill": {
     "duration": 0.155369,
     "end_time": "2022-01-07T14:52:25.684061",
     "exception": false,
     "start_time": "2022-01-07T14:52:25.528692",
     "status": "completed"
    },
    "tags": []
   },
   "outputs": [
    {
     "data": {
      "text/html": [
       "<div>\n",
       "<style scoped>\n",
       "    .dataframe tbody tr th:only-of-type {\n",
       "        vertical-align: middle;\n",
       "    }\n",
       "\n",
       "    .dataframe tbody tr th {\n",
       "        vertical-align: top;\n",
       "    }\n",
       "\n",
       "    .dataframe thead th {\n",
       "        text-align: right;\n",
       "    }\n",
       "</style>\n",
       "<table border=\"1\" class=\"dataframe\">\n",
       "  <thead>\n",
       "    <tr style=\"text-align: right;\">\n",
       "      <th></th>\n",
       "      <th>count</th>\n",
       "      <th>mean</th>\n",
       "      <th>std</th>\n",
       "      <th>min</th>\n",
       "      <th>25%</th>\n",
       "      <th>50%</th>\n",
       "      <th>75%</th>\n",
       "      <th>max</th>\n",
       "    </tr>\n",
       "  </thead>\n",
       "  <tbody>\n",
       "    <tr>\n",
       "      <th>index_no</th>\n",
       "      <td>404.0</td>\n",
       "      <td>2.158663e+02</td>\n",
       "      <td>1.407366e+02</td>\n",
       "      <td>0.000000e+00</td>\n",
       "      <td>1.007500e+02</td>\n",
       "      <td>2.015000e+02</td>\n",
       "      <td>3.062500e+02</td>\n",
       "      <td>5.510000e+02</td>\n",
       "    </tr>\n",
       "    <tr>\n",
       "      <th>bedrooms</th>\n",
       "      <td>383.0</td>\n",
       "      <td>3.169713e+00</td>\n",
       "      <td>1.221501e+00</td>\n",
       "      <td>0.000000e+00</td>\n",
       "      <td>2.000000e+00</td>\n",
       "      <td>3.000000e+00</td>\n",
       "      <td>4.000000e+00</td>\n",
       "      <td>7.000000e+00</td>\n",
       "    </tr>\n",
       "    <tr>\n",
       "      <th>bathrooms</th>\n",
       "      <td>383.0</td>\n",
       "      <td>2.224543e+00</td>\n",
       "      <td>1.086193e+00</td>\n",
       "      <td>0.000000e+00</td>\n",
       "      <td>1.000000e+00</td>\n",
       "      <td>2.000000e+00</td>\n",
       "      <td>3.000000e+00</td>\n",
       "      <td>7.000000e+00</td>\n",
       "    </tr>\n",
       "    <tr>\n",
       "      <th>area_code</th>\n",
       "      <td>402.0</td>\n",
       "      <td>5.427065e+02</td>\n",
       "      <td>2.133970e+02</td>\n",
       "      <td>2.040000e+02</td>\n",
       "      <td>4.030000e+02</td>\n",
       "      <td>5.190000e+02</td>\n",
       "      <td>7.050000e+02</td>\n",
       "      <td>9.050000e+02</td>\n",
       "    </tr>\n",
       "    <tr>\n",
       "      <th>telephone</th>\n",
       "      <td>402.0</td>\n",
       "      <td>6.261265e+06</td>\n",
       "      <td>2.368341e+06</td>\n",
       "      <td>2.027494e+06</td>\n",
       "      <td>4.343734e+06</td>\n",
       "      <td>6.371700e+06</td>\n",
       "      <td>8.324634e+06</td>\n",
       "      <td>9.997653e+06</td>\n",
       "    </tr>\n",
       "    <tr>\n",
       "      <th>price</th>\n",
       "      <td>404.0</td>\n",
       "      <td>6.310118e+05</td>\n",
       "      <td>4.570725e+05</td>\n",
       "      <td>1.500000e+04</td>\n",
       "      <td>3.493750e+05</td>\n",
       "      <td>5.199000e+05</td>\n",
       "      <td>7.990000e+05</td>\n",
       "      <td>3.995000e+06</td>\n",
       "    </tr>\n",
       "    <tr>\n",
       "      <th>media_category_id</th>\n",
       "      <td>230.0</td>\n",
       "      <td>1.604348e+00</td>\n",
       "      <td>6.303657e-01</td>\n",
       "      <td>1.000000e+00</td>\n",
       "      <td>1.000000e+00</td>\n",
       "      <td>2.000000e+00</td>\n",
       "      <td>2.000000e+00</td>\n",
       "      <td>5.000000e+00</td>\n",
       "    </tr>\n",
       "    <tr>\n",
       "      <th>building_stories</th>\n",
       "      <td>262.0</td>\n",
       "      <td>2.024809e+00</td>\n",
       "      <td>3.404394e+00</td>\n",
       "      <td>1.000000e+00</td>\n",
       "      <td>1.000000e+00</td>\n",
       "      <td>2.000000e+00</td>\n",
       "      <td>2.000000e+00</td>\n",
       "      <td>4.400000e+01</td>\n",
       "    </tr>\n",
       "    <tr>\n",
       "      <th>agent_id</th>\n",
       "      <td>404.0</td>\n",
       "      <td>1.829720e+06</td>\n",
       "      <td>2.652763e+05</td>\n",
       "      <td>1.382780e+06</td>\n",
       "      <td>1.558918e+06</td>\n",
       "      <td>1.933826e+06</td>\n",
       "      <td>2.059202e+06</td>\n",
       "      <td>2.190894e+06</td>\n",
       "    </tr>\n",
       "    <tr>\n",
       "      <th>org_id</th>\n",
       "      <td>404.0</td>\n",
       "      <td>1.814044e+05</td>\n",
       "      <td>1.081880e+05</td>\n",
       "      <td>4.594600e+04</td>\n",
       "      <td>5.451600e+04</td>\n",
       "      <td>2.585785e+05</td>\n",
       "      <td>2.837755e+05</td>\n",
       "      <td>2.947720e+05</td>\n",
       "    </tr>\n",
       "    <tr>\n",
       "      <th>org_ph_no</th>\n",
       "      <td>402.0</td>\n",
       "      <td>5.922618e+06</td>\n",
       "      <td>2.273903e+06</td>\n",
       "      <td>2.022929e+06</td>\n",
       "      <td>4.104670e+06</td>\n",
       "      <td>5.793739e+06</td>\n",
       "      <td>7.876478e+06</td>\n",
       "      <td>9.992882e+06</td>\n",
       "    </tr>\n",
       "    <tr>\n",
       "      <th>prop_parking_space</th>\n",
       "      <td>205.0</td>\n",
       "      <td>3.887805e+00</td>\n",
       "      <td>2.684760e+00</td>\n",
       "      <td>0.000000e+00</td>\n",
       "      <td>2.000000e+00</td>\n",
       "      <td>3.000000e+00</td>\n",
       "      <td>6.000000e+00</td>\n",
       "      <td>1.300000e+01</td>\n",
       "    </tr>\n",
       "    <tr>\n",
       "      <th>latitude</th>\n",
       "      <td>404.0</td>\n",
       "      <td>4.741802e+01</td>\n",
       "      <td>3.361643e+00</td>\n",
       "      <td>4.206848e+01</td>\n",
       "      <td>4.513841e+01</td>\n",
       "      <td>4.637411e+01</td>\n",
       "      <td>4.984336e+01</td>\n",
       "      <td>5.624490e+01</td>\n",
       "    </tr>\n",
       "    <tr>\n",
       "      <th>longitude</th>\n",
       "      <td>404.0</td>\n",
       "      <td>-9.042671e+01</td>\n",
       "      <td>1.995198e+01</td>\n",
       "      <td>-1.252455e+02</td>\n",
       "      <td>-1.134451e+02</td>\n",
       "      <td>-8.057003e+01</td>\n",
       "      <td>-7.536887e+01</td>\n",
       "      <td>-5.273364e+01</td>\n",
       "    </tr>\n",
       "  </tbody>\n",
       "</table>\n",
       "</div>"
      ],
      "text/plain": [
       "                    count          mean           std           min  \\\n",
       "index_no            404.0  2.158663e+02  1.407366e+02  0.000000e+00   \n",
       "bedrooms            383.0  3.169713e+00  1.221501e+00  0.000000e+00   \n",
       "bathrooms           383.0  2.224543e+00  1.086193e+00  0.000000e+00   \n",
       "area_code           402.0  5.427065e+02  2.133970e+02  2.040000e+02   \n",
       "telephone           402.0  6.261265e+06  2.368341e+06  2.027494e+06   \n",
       "price               404.0  6.310118e+05  4.570725e+05  1.500000e+04   \n",
       "media_category_id   230.0  1.604348e+00  6.303657e-01  1.000000e+00   \n",
       "building_stories    262.0  2.024809e+00  3.404394e+00  1.000000e+00   \n",
       "agent_id            404.0  1.829720e+06  2.652763e+05  1.382780e+06   \n",
       "org_id              404.0  1.814044e+05  1.081880e+05  4.594600e+04   \n",
       "org_ph_no           402.0  5.922618e+06  2.273903e+06  2.022929e+06   \n",
       "prop_parking_space  205.0  3.887805e+00  2.684760e+00  0.000000e+00   \n",
       "latitude            404.0  4.741802e+01  3.361643e+00  4.206848e+01   \n",
       "longitude           404.0 -9.042671e+01  1.995198e+01 -1.252455e+02   \n",
       "\n",
       "                             25%           50%           75%           max  \n",
       "index_no            1.007500e+02  2.015000e+02  3.062500e+02  5.510000e+02  \n",
       "bedrooms            2.000000e+00  3.000000e+00  4.000000e+00  7.000000e+00  \n",
       "bathrooms           1.000000e+00  2.000000e+00  3.000000e+00  7.000000e+00  \n",
       "area_code           4.030000e+02  5.190000e+02  7.050000e+02  9.050000e+02  \n",
       "telephone           4.343734e+06  6.371700e+06  8.324634e+06  9.997653e+06  \n",
       "price               3.493750e+05  5.199000e+05  7.990000e+05  3.995000e+06  \n",
       "media_category_id   1.000000e+00  2.000000e+00  2.000000e+00  5.000000e+00  \n",
       "building_stories    1.000000e+00  2.000000e+00  2.000000e+00  4.400000e+01  \n",
       "agent_id            1.558918e+06  1.933826e+06  2.059202e+06  2.190894e+06  \n",
       "org_id              5.451600e+04  2.585785e+05  2.837755e+05  2.947720e+05  \n",
       "org_ph_no           4.104670e+06  5.793739e+06  7.876478e+06  9.992882e+06  \n",
       "prop_parking_space  2.000000e+00  3.000000e+00  6.000000e+00  1.300000e+01  \n",
       "latitude            4.513841e+01  4.637411e+01  4.984336e+01  5.624490e+01  \n",
       "longitude          -1.134451e+02 -8.057003e+01 -7.536887e+01 -5.273364e+01  "
      ]
     },
     "execution_count": 6,
     "metadata": {},
     "output_type": "execute_result"
    }
   ],
   "source": [
    "df.describe().T"
   ]
  },
  {
   "cell_type": "markdown",
   "id": "a2a98bde",
   "metadata": {
    "papermill": {
     "duration": 0.044843,
     "end_time": "2022-01-07T14:52:25.773816",
     "exception": false,
     "start_time": "2022-01-07T14:52:25.728973",
     "status": "completed"
    },
    "tags": []
   },
   "source": [
    "***Visualizing the correlations between numerical variables***"
   ]
  },
  {
   "cell_type": "code",
   "execution_count": 7,
   "id": "d967dd1d",
   "metadata": {
    "execution": {
     "iopub.execute_input": "2022-01-07T14:52:25.867605Z",
     "iopub.status.busy": "2022-01-07T14:52:25.866914Z",
     "iopub.status.idle": "2022-01-07T14:52:26.870486Z",
     "shell.execute_reply": "2022-01-07T14:52:26.871004Z",
     "shell.execute_reply.started": "2022-01-07T14:42:49.404451Z"
    },
    "papermill": {
     "duration": 1.052043,
     "end_time": "2022-01-07T14:52:26.871194",
     "exception": false,
     "start_time": "2022-01-07T14:52:25.819151",
     "status": "completed"
    },
    "tags": []
   },
   "outputs": [
    {
     "data": {
      "image/png": "[encoded data removed]",
      "text/plain": [
       "<Figure size 1000x800 with 2 Axes>"
      ]
     },
     "metadata": {},
     "output_type": "display_data"
    }
   ],
   "source": [
    "plt.figure(figsize=(10,8))\n",
    "sns.heatmap(df.corr(), cmap=\"RdBu\")\n",
    "plt.title(\"Correlations Between Variables\", size=15)\n",
    "plt.show()"
   ]
  },
  {
   "cell_type": "markdown",
   "id": "796a75d0",
   "metadata": {
    "papermill": {
     "duration": 0.047016,
     "end_time": "2022-01-07T14:52:26.966511",
     "exception": false,
     "start_time": "2022-01-07T14:52:26.919495",
     "status": "completed"
    },
    "tags": []
   },
   "source": [
    "<h1 style=\"font-family: 'Times New Roman'; letter-spacing: 0.08em;\">Feature Selection</h1>"
   ]
  },
  {
   "cell_type": "markdown",
   "id": "e1472339",
   "metadata": {
    "papermill": {
     "duration": 0.046706,
     "end_time": "2022-01-07T14:52:27.060244",
     "exception": false,
     "start_time": "2022-01-07T14:52:27.013538",
     "status": "completed"
    },
    "tags": []
   },
   "source": [
    "***We are selecting numerical features which have more than 0.40 or less than -0.40 correlation rate based on Pearson Correlation Method—which is the default value of parameter \"method\" in corr() function. As for selecting categorical features, I selected the categorical values which I believe have significant effect on the target variable such as prop_parking_space.***"
   ]
  },
  {
   "cell_type": "code",
   "execution_count": 8,
   "id": "fbf97074",
   "metadata": {
    "execution": {
     "iopub.execute_input": "2022-01-07T14:52:27.161546Z",
     "iopub.status.busy": "2022-01-07T14:52:27.160839Z",
     "iopub.status.idle": "2022-01-07T14:52:27.187892Z",
     "shell.execute_reply": "2022-01-07T14:52:27.188471Z",
     "shell.execute_reply.started": "2022-01-07T14:42:50.338019Z"
    },
    "papermill": {
     "duration": 0.081082,
     "end_time": "2022-01-07T14:52:27.188662",
     "exception": false,
     "start_time": "2022-01-07T14:52:27.107580",
     "status": "completed"
    },
    "tags": []
   },
   "outputs": [],
   "source": [
    "important_num_cols = list(df.corr()[\"price\"][(df.corr()[\"price\"]>0.40) | (df.corr()[\"price\"]<-0.40)].index)\n",
    "cat_cols = ['prop_parking_space']\n",
    "important_cols = important_num_cols + cat_cols\n",
    "\n",
    "####missing_cols=['bedrooms','building_stories','prop_parking_space']\n",
    "####the_important_cols = important_num_cols + missing_cols\n",
    "\n",
    "\n",
    "df = df[important_cols]\n",
    "\n",
    "##df = df[important_num_cols]"
   ]
  },
  {
   "cell_type": "markdown",
   "id": "f6673694",
   "metadata": {
    "papermill": {
     "duration": 0.0465,
     "end_time": "2022-01-07T14:52:27.282302",
     "exception": false,
     "start_time": "2022-01-07T14:52:27.235802",
     "status": "completed"
    },
    "tags": []
   },
   "source": [
    "***Checking for the missing values***"
   ]
  },
  {
   "cell_type": "code",
   "execution_count": 9,
   "id": "b3ad493a",
   "metadata": {
    "execution": {
     "iopub.execute_input": "2022-01-07T14:52:27.380171Z",
     "iopub.status.busy": "2022-01-07T14:52:27.379562Z",
     "iopub.status.idle": "2022-01-07T14:52:27.393576Z",
     "shell.execute_reply": "2022-01-07T14:52:27.394187Z",
     "shell.execute_reply.started": "2022-01-07T14:42:50.367799Z"
    },
    "papermill": {
     "duration": 0.064672,
     "end_time": "2022-01-07T14:52:27.394368",
     "exception": false,
     "start_time": "2022-01-07T14:52:27.329696",
     "status": "completed"
    },
    "tags": []
   },
   "outputs": [
    {
     "name": "stdout",
     "output_type": "stream",
     "text": [
      "Missing Values by Column\n",
      "------------------------------\n",
      "bedrooms               21\n",
      "bathrooms              21\n",
      "price                   0\n",
      "prop_parking_space    199\n",
      "dtype: int64\n",
      "------------------------------\n",
      "TOTAL MISSING VALUES: 241\n"
     ]
    }
   ],
   "source": [
    "print(\"Missing Values by Column\")\n",
    "print(\"-\"*30)\n",
    "print(df.isna().sum())\n",
    "print(\"-\"*30)\n",
    "print(\"TOTAL MISSING VALUES:\",df.isna().sum().sum())"
   ]
  },
  {
   "cell_type": "code",
   "execution_count": 10,
   "id": "bcf696da",
   "metadata": {},
   "outputs": [
    {
     "name": "stdout",
     "output_type": "stream",
     "text": [
      "<class 'pandas.core.frame.DataFrame'>\n",
      "Int64Index: 205 entries, 1 to 383\n",
      "Data columns (total 4 columns):\n",
      " #   Column              Non-Null Count  Dtype  \n",
      "---  ------              --------------  -----  \n",
      " 0   bedrooms            205 non-null    float64\n",
      " 1   bathrooms           205 non-null    float64\n",
      " 2   price               205 non-null    int64  \n",
      " 3   prop_parking_space  205 non-null    float64\n",
      "dtypes: float64(3), int64(1)\n",
      "memory usage: 8.0 KB\n"
     ]
    }
   ],
   "source": [
    "columns_with_na = ['bathrooms','bedrooms','prop_parking_space']\n",
    "df = df.dropna(axis=0, subset = columns_with_na)\n",
    "df.info()"
   ]
  },
  {
   "cell_type": "code",
   "execution_count": 11,
   "id": "20815537",
   "metadata": {},
   "outputs": [
    {
     "name": "stdout",
     "output_type": "stream",
     "text": [
      "Missing Values by Column\n",
      "------------------------------\n",
      "bedrooms              0\n",
      "bathrooms             0\n",
      "price                 0\n",
      "prop_parking_space    0\n",
      "dtype: int64\n",
      "------------------------------\n",
      "TOTAL MISSING VALUES: 0\n"
     ]
    }
   ],
   "source": [
    "print(\"Missing Values by Column\")\n",
    "print(\"-\"*30)\n",
    "print(df.isna().sum())\n",
    "print(\"-\"*30)\n",
    "print(\"TOTAL MISSING VALUES:\",df.isna().sum().sum())"
   ]
  },
  {
   "cell_type": "markdown",
   "id": "fc90cfb7",
   "metadata": {
    "papermill": {
     "duration": 0.046998,
     "end_time": "2022-01-07T14:52:27.488423",
     "exception": false,
     "start_time": "2022-01-07T14:52:27.441425",
     "status": "completed"
    },
    "tags": []
   },
   "source": [
    "<h1 style=\"font-family: 'Times New Roman'; letter-spacing: 0.08em;\">Data Visualization</h1>"
   ]
  },
  {
   "cell_type": "markdown",
   "id": "554f0c13",
   "metadata": {
    "papermill": {
     "duration": 0.04741,
     "end_time": "2022-01-07T14:52:27.584829",
     "exception": false,
     "start_time": "2022-01-07T14:52:27.537419",
     "status": "completed"
    },
    "tags": []
   },
   "source": [
    "***Visualizing the Correlation between the numerical variables using pairplot visualization***"
   ]
  },
  {
   "cell_type": "code",
   "execution_count": 12,
   "id": "6098b613",
   "metadata": {
    "execution": {
     "iopub.execute_input": "2022-01-07T14:52:27.683573Z",
     "iopub.status.busy": "2022-01-07T14:52:27.682873Z",
     "iopub.status.idle": "2022-01-07T14:52:54.913114Z",
     "shell.execute_reply": "2022-01-07T14:52:54.913633Z",
     "shell.execute_reply.started": "2022-01-07T14:42:50.383120Z"
    },
    "papermill": {
     "duration": 27.281534,
     "end_time": "2022-01-07T14:52:54.913817",
     "exception": false,
     "start_time": "2022-01-07T14:52:27.632283",
     "status": "completed"
    },
    "tags": []
   },
   "outputs": [
    {
     "data": {
      "text/plain": [
       "<seaborn.axisgrid.PairGrid at 0x24d8eb032e0>"
      ]
     },
     "execution_count": 12,
     "metadata": {},
     "output_type": "execute_result"
    },
    {
     "data": {
      "image/png": "[encoded data removed]",
      "text/plain": [
       "<Figure size 750x750 with 12 Axes>"
      ]
     },
     "metadata": {},
     "output_type": "display_data"
    }
   ],
   "source": [
    "sns.pairplot(df[important_num_cols])"
   ]
  },
  {
   "cell_type": "markdown",
   "id": "4acbeb7e",
   "metadata": {
    "papermill": {
     "duration": 0.082493,
     "end_time": "2022-01-07T14:52:55.080212",
     "exception": false,
     "start_time": "2022-01-07T14:52:54.997719",
     "status": "completed"
    },
    "tags": []
   },
   "source": [
    "***Visualizing the Correlation between each column and the target variable using jointplot visualization***"
   ]
  },
  {
   "cell_type": "code",
   "execution_count": 13,
   "id": "4bbb826a",
   "metadata": {
    "execution": {
     "iopub.execute_input": "2022-01-07T14:52:55.267632Z",
     "iopub.status.busy": "2022-01-07T14:52:55.266719Z",
     "iopub.status.idle": "2022-01-07T14:53:11.029555Z",
     "shell.execute_reply": "2022-01-07T14:53:11.029015Z",
     "shell.execute_reply.started": "2022-01-07T14:43:18.135597Z"
    },
    "papermill": {
     "duration": 15.867267,
     "end_time": "2022-01-07T14:53:11.029704",
     "exception": false,
     "start_time": "2022-01-07T14:52:55.162437",
     "status": "completed"
    },
    "tags": []
   },
   "outputs": [
    {
     "data": {
      "text/plain": [
       "<Figure size 1000x800 with 0 Axes>"
      ]
     },
     "metadata": {},
     "output_type": "display_data"
    },
    {
     "data": {
      "image/png": "[encoded data removed]",
      "text/plain": [
       "<Figure size 600x600 with 3 Axes>"
      ]
     },
     "metadata": {},
     "output_type": "display_data"
    },
    {
     "data": {
      "image/png": "[encoded data removed]",
      "text/plain": [
       "<Figure size 600x600 with 3 Axes>"
      ]
     },
     "metadata": {},
     "output_type": "display_data"
    },
    {
     "data": {
      "image/png": "[encoded data removed]",
      "text/plain": [
       "<Figure size 600x600 with 3 Axes>"
      ]
     },
     "metadata": {},
     "output_type": "display_data"
    }
   ],
   "source": [
    "plt.figure(figsize=(10,8))\n",
    "sns.jointplot(x=df[\"bathrooms\"], y=df[\"price\"], kind=\"kde\")\n",
    "sns.jointplot(x=df[\"bedrooms\"], y=df[\"price\"], kind=\"kde\")\n",
    "sns.jointplot(x=df[\"prop_parking_space\"], y=df[\"price\"], kind=\"kde\")\n",
    "plt.show()"
   ]
  },
  {
   "cell_type": "markdown",
   "id": "c7ad83c4",
   "metadata": {
    "papermill": {
     "duration": 0.101908,
     "end_time": "2022-01-07T14:53:11.236310",
     "exception": false,
     "start_time": "2022-01-07T14:53:11.134402",
     "status": "completed"
    },
    "tags": []
   },
   "source": [
    "<h1 style=\"font-family: 'Times New Roman'; letter-spacing: 0.08em;\">X, y Split</h1>"
   ]
  },
  {
   "cell_type": "markdown",
   "id": "1f41b275",
   "metadata": {
    "papermill": {
     "duration": 0.101341,
     "end_time": "2022-01-07T14:53:11.439144",
     "exception": false,
     "start_time": "2022-01-07T14:53:11.337803",
     "status": "completed"
    },
    "tags": []
   },
   "source": [
    "***Splitting the data into X and y chunks***"
   ]
  },
  {
   "cell_type": "code",
   "execution_count": 14,
   "id": "ac825bef",
   "metadata": {
    "execution": {
     "iopub.execute_input": "2022-01-07T14:53:11.647113Z",
     "iopub.status.busy": "2022-01-07T14:53:11.646485Z",
     "iopub.status.idle": "2022-01-07T14:53:11.651440Z",
     "shell.execute_reply": "2022-01-07T14:53:11.652135Z",
     "shell.execute_reply.started": "2022-01-07T14:43:34.571687Z"
    },
    "papermill": {
     "duration": 0.111491,
     "end_time": "2022-01-07T14:53:11.652319",
     "exception": false,
     "start_time": "2022-01-07T14:53:11.540828",
     "status": "completed"
    },
    "tags": []
   },
   "outputs": [],
   "source": [
    "X = df.drop(\"price\", axis=1)\n",
    "y = df[\"price\"]"
   ]
  },
  {
   "cell_type": "markdown",
   "id": "957e7868",
   "metadata": {
    "papermill": {
     "duration": 0.104454,
     "end_time": "2022-01-07T14:53:11.858570",
     "exception": false,
     "start_time": "2022-01-07T14:53:11.754116",
     "status": "completed"
    },
    "tags": []
   },
   "source": [
    "<h1 style=\"font-family: 'Times New Roman'; letter-spacing: 0.08em;\">One-Hot Encoding</h1>"
   ]
  },
  {
   "cell_type": "markdown",
   "id": "eb47eef6",
   "metadata": {
    "papermill": {
     "duration": 0.104928,
     "end_time": "2022-01-07T14:53:12.067282",
     "exception": false,
     "start_time": "2022-01-07T14:53:11.962354",
     "status": "completed"
    },
    "tags": []
   },
   "source": [
    "***Encoding the categorical features in X dataset by using One-Hot Encoding method***"
   ]
  },
  {
   "cell_type": "code",
   "execution_count": 15,
   "id": "1dd62530",
   "metadata": {
    "execution": {
     "iopub.execute_input": "2022-01-07T14:53:12.276824Z",
     "iopub.status.busy": "2022-01-07T14:53:12.276088Z",
     "iopub.status.idle": "2022-01-07T14:53:12.288834Z",
     "shell.execute_reply": "2022-01-07T14:53:12.289378Z",
     "shell.execute_reply.started": "2022-01-07T14:43:34.578953Z"
    },
    "papermill": {
     "duration": 0.11955,
     "end_time": "2022-01-07T14:53:12.289583",
     "exception": false,
     "start_time": "2022-01-07T14:53:12.170033",
     "status": "completed"
    },
    "tags": []
   },
   "outputs": [],
   "source": [
    "X = pd.get_dummies(X, columns=cat_cols)"
   ]
  },
  {
   "cell_type": "markdown",
   "id": "5c23c6f5",
   "metadata": {
    "papermill": {
     "duration": 0.103223,
     "end_time": "2022-01-07T14:53:12.496731",
     "exception": false,
     "start_time": "2022-01-07T14:53:12.393508",
     "status": "completed"
    },
    "tags": []
   },
   "source": [
    "<h1 style=\"font-family: 'Times New Roman'; letter-spacing: 0.08em;\">Standardizing the Data</h1>"
   ]
  },
  {
   "cell_type": "markdown",
   "id": "cd239272",
   "metadata": {
    "papermill": {
     "duration": 0.102248,
     "end_time": "2022-01-07T14:53:12.702016",
     "exception": false,
     "start_time": "2022-01-07T14:53:12.599768",
     "status": "completed"
    },
    "tags": []
   },
   "source": [
    "***Standardizing the numerical columns in X dataset. StandardScaler() adjusts the mean of the features as 0 and standard deviation of features as 1. Formula that StandardScaler() uses is as follows:***"
   ]
  },
  {
   "cell_type": "markdown",
   "id": "943897e1",
   "metadata": {
    "papermill": {
     "duration": 0.106209,
     "end_time": "2022-01-07T14:53:12.910212",
     "exception": false,
     "start_time": "2022-01-07T14:53:12.804003",
     "status": "completed"
    },
    "tags": []
   },
   "source": [
    "<center><img width=\"300px\" src=\"https://www.thoughtco.com/thmb/gItmqGd5HlnhyPIiLm1YHXOlTnw=/330x242/filters:fill(auto,1)/zscore-56a8fa785f9b58b7d0f6e87b.GIF\"></center>"
   ]
  },
  {
   "cell_type": "code",
   "execution_count": 16,
   "id": "4ab78b65",
   "metadata": {
    "execution": {
     "iopub.execute_input": "2022-01-07T14:53:13.130160Z",
     "iopub.status.busy": "2022-01-07T14:53:13.129350Z",
     "iopub.status.idle": "2022-01-07T14:53:13.137015Z",
     "shell.execute_reply": "2022-01-07T14:53:13.137596Z",
     "shell.execute_reply.started": "2022-01-07T14:43:34.601579Z"
    },
    "papermill": {
     "duration": 0.120475,
     "end_time": "2022-01-07T14:53:13.137818",
     "exception": false,
     "start_time": "2022-01-07T14:53:13.017343",
     "status": "completed"
    },
    "tags": []
   },
   "outputs": [],
   "source": [
    "important_num_cols.remove(\"price\")\n",
    "\n",
    "scaler = StandardScaler()\n",
    "X[important_num_cols] = scaler.fit_transform(X[important_num_cols])"
   ]
  },
  {
   "cell_type": "markdown",
   "id": "e367a7a7",
   "metadata": {
    "papermill": {
     "duration": 0.109989,
     "end_time": "2022-01-07T14:53:13.360870",
     "exception": false,
     "start_time": "2022-01-07T14:53:13.250881",
     "status": "completed"
    },
    "tags": []
   },
   "source": [
    "***As you can see, standardization is done successfully***"
   ]
  },
  {
   "cell_type": "code",
   "execution_count": 17,
   "id": "bdfe99cf",
   "metadata": {
    "execution": {
     "iopub.execute_input": "2022-01-07T14:53:13.575636Z",
     "iopub.status.busy": "2022-01-07T14:53:13.574885Z",
     "iopub.status.idle": "2022-01-07T14:53:13.596030Z",
     "shell.execute_reply": "2022-01-07T14:53:13.596561Z",
     "shell.execute_reply.started": "2022-01-07T14:43:34.616498Z"
    },
    "papermill": {
     "duration": 0.130495,
     "end_time": "2022-01-07T14:53:13.596771",
     "exception": false,
     "start_time": "2022-01-07T14:53:13.466276",
     "status": "completed"
    },
    "tags": []
   },
   "outputs": [
    {
     "data": {
      "text/html": [
       "<div>\n",
       "<style scoped>\n",
       "    .dataframe tbody tr th:only-of-type {\n",
       "        vertical-align: middle;\n",
       "    }\n",
       "\n",
       "    .dataframe tbody tr th {\n",
       "        vertical-align: top;\n",
       "    }\n",
       "\n",
       "    .dataframe thead th {\n",
       "        text-align: right;\n",
       "    }\n",
       "</style>\n",
       "<table border=\"1\" class=\"dataframe\">\n",
       "  <thead>\n",
       "    <tr style=\"text-align: right;\">\n",
       "      <th></th>\n",
       "      <th>bedrooms</th>\n",
       "      <th>bathrooms</th>\n",
       "      <th>prop_parking_space_0.0</th>\n",
       "      <th>prop_parking_space_1.0</th>\n",
       "      <th>prop_parking_space_2.0</th>\n",
       "      <th>prop_parking_space_3.0</th>\n",
       "      <th>prop_parking_space_4.0</th>\n",
       "      <th>prop_parking_space_5.0</th>\n",
       "      <th>prop_parking_space_6.0</th>\n",
       "      <th>prop_parking_space_7.0</th>\n",
       "      <th>prop_parking_space_8.0</th>\n",
       "      <th>prop_parking_space_9.0</th>\n",
       "      <th>prop_parking_space_10.0</th>\n",
       "      <th>prop_parking_space_11.0</th>\n",
       "      <th>prop_parking_space_12.0</th>\n",
       "      <th>prop_parking_space_13.0</th>\n",
       "    </tr>\n",
       "  </thead>\n",
       "  <tbody>\n",
       "    <tr>\n",
       "      <th>1</th>\n",
       "      <td>-1.046441</td>\n",
       "      <td>0.674080</td>\n",
       "      <td>0</td>\n",
       "      <td>0</td>\n",
       "      <td>1</td>\n",
       "      <td>0</td>\n",
       "      <td>0</td>\n",
       "      <td>0</td>\n",
       "      <td>0</td>\n",
       "      <td>0</td>\n",
       "      <td>0</td>\n",
       "      <td>0</td>\n",
       "      <td>0</td>\n",
       "      <td>0</td>\n",
       "      <td>0</td>\n",
       "      <td>0</td>\n",
       "    </tr>\n",
       "    <tr>\n",
       "      <th>2</th>\n",
       "      <td>0.683563</td>\n",
       "      <td>1.607771</td>\n",
       "      <td>0</td>\n",
       "      <td>0</td>\n",
       "      <td>0</td>\n",
       "      <td>0</td>\n",
       "      <td>0</td>\n",
       "      <td>0</td>\n",
       "      <td>1</td>\n",
       "      <td>0</td>\n",
       "      <td>0</td>\n",
       "      <td>0</td>\n",
       "      <td>0</td>\n",
       "      <td>0</td>\n",
       "      <td>0</td>\n",
       "      <td>0</td>\n",
       "    </tr>\n",
       "    <tr>\n",
       "      <th>3</th>\n",
       "      <td>-1.046441</td>\n",
       "      <td>-0.259612</td>\n",
       "      <td>0</td>\n",
       "      <td>0</td>\n",
       "      <td>0</td>\n",
       "      <td>0</td>\n",
       "      <td>1</td>\n",
       "      <td>0</td>\n",
       "      <td>0</td>\n",
       "      <td>0</td>\n",
       "      <td>0</td>\n",
       "      <td>0</td>\n",
       "      <td>0</td>\n",
       "      <td>0</td>\n",
       "      <td>0</td>\n",
       "      <td>0</td>\n",
       "    </tr>\n",
       "    <tr>\n",
       "      <th>4</th>\n",
       "      <td>-0.181439</td>\n",
       "      <td>1.607771</td>\n",
       "      <td>0</td>\n",
       "      <td>0</td>\n",
       "      <td>0</td>\n",
       "      <td>0</td>\n",
       "      <td>1</td>\n",
       "      <td>0</td>\n",
       "      <td>0</td>\n",
       "      <td>0</td>\n",
       "      <td>0</td>\n",
       "      <td>0</td>\n",
       "      <td>0</td>\n",
       "      <td>0</td>\n",
       "      <td>0</td>\n",
       "      <td>0</td>\n",
       "    </tr>\n",
       "    <tr>\n",
       "      <th>6</th>\n",
       "      <td>1.548565</td>\n",
       "      <td>0.674080</td>\n",
       "      <td>0</td>\n",
       "      <td>0</td>\n",
       "      <td>0</td>\n",
       "      <td>0</td>\n",
       "      <td>0</td>\n",
       "      <td>0</td>\n",
       "      <td>0</td>\n",
       "      <td>1</td>\n",
       "      <td>0</td>\n",
       "      <td>0</td>\n",
       "      <td>0</td>\n",
       "      <td>0</td>\n",
       "      <td>0</td>\n",
       "      <td>0</td>\n",
       "    </tr>\n",
       "  </tbody>\n",
       "</table>\n",
       "</div>"
      ],
      "text/plain": [
       "   bedrooms  bathrooms  prop_parking_space_0.0  prop_parking_space_1.0  \\\n",
       "1 -1.046441   0.674080                       0                       0   \n",
       "2  0.683563   1.607771                       0                       0   \n",
       "3 -1.046441  -0.259612                       0                       0   \n",
       "4 -0.181439   1.607771                       0                       0   \n",
       "6  1.548565   0.674080                       0                       0   \n",
       "\n",
       "   prop_parking_space_2.0  prop_parking_space_3.0  prop_parking_space_4.0  \\\n",
       "1                       1                       0                       0   \n",
       "2                       0                       0                       0   \n",
       "3                       0                       0                       1   \n",
       "4                       0                       0                       1   \n",
       "6                       0                       0                       0   \n",
       "\n",
       "   prop_parking_space_5.0  prop_parking_space_6.0  prop_parking_space_7.0  \\\n",
       "1                       0                       0                       0   \n",
       "2                       0                       1                       0   \n",
       "3                       0                       0                       0   \n",
       "4                       0                       0                       0   \n",
       "6                       0                       0                       1   \n",
       "\n",
       "   prop_parking_space_8.0  prop_parking_space_9.0  prop_parking_space_10.0  \\\n",
       "1                       0                       0                        0   \n",
       "2                       0                       0                        0   \n",
       "3                       0                       0                        0   \n",
       "4                       0                       0                        0   \n",
       "6                       0                       0                        0   \n",
       "\n",
       "   prop_parking_space_11.0  prop_parking_space_12.0  prop_parking_space_13.0  \n",
       "1                        0                        0                        0  \n",
       "2                        0                        0                        0  \n",
       "3                        0                        0                        0  \n",
       "4                        0                        0                        0  \n",
       "6                        0                        0                        0  "
      ]
     },
     "execution_count": 17,
     "metadata": {},
     "output_type": "execute_result"
    }
   ],
   "source": [
    "X.head()"
   ]
  },
  {
   "cell_type": "markdown",
   "id": "cbb4c637",
   "metadata": {
    "papermill": {
     "duration": 0.10743,
     "end_time": "2022-01-07T14:53:13.812158",
     "exception": false,
     "start_time": "2022-01-07T14:53:13.704728",
     "status": "completed"
    },
    "tags": []
   },
   "source": [
    "<h1 style=\"font-family: 'Times New Roman'; letter-spacing: 0.08em;\">Train-Test Split</h1>"
   ]
  },
  {
   "cell_type": "markdown",
   "id": "dbe1c9d2",
   "metadata": {
    "papermill": {
     "duration": 0.105439,
     "end_time": "2022-01-07T14:53:14.023784",
     "exception": false,
     "start_time": "2022-01-07T14:53:13.918345",
     "status": "completed"
    },
    "tags": []
   },
   "source": [
    "***Splitting the data into Train and Test chunks for better evaluation***"
   ]
  },
  {
   "cell_type": "code",
   "execution_count": 18,
   "id": "a7fb6519",
   "metadata": {
    "execution": {
     "iopub.execute_input": "2022-01-07T14:53:14.236626Z",
     "iopub.status.busy": "2022-01-07T14:53:14.235904Z",
     "iopub.status.idle": "2022-01-07T14:53:14.245563Z",
     "shell.execute_reply": "2022-01-07T14:53:14.246040Z",
     "shell.execute_reply.started": "2022-01-07T14:43:34.643423Z"
    },
    "papermill": {
     "duration": 0.117592,
     "end_time": "2022-01-07T14:53:14.246227",
     "exception": false,
     "start_time": "2022-01-07T14:53:14.128635",
     "status": "completed"
    },
    "tags": []
   },
   "outputs": [],
   "source": [
    "X_train, X_test, y_train, y_test = train_test_split(X, y, test_size=0.2, random_state=42)"
   ]
  },
  {
   "cell_type": "markdown",
   "id": "cbadb641",
   "metadata": {
    "papermill": {
     "duration": 0.10377,
     "end_time": "2022-01-07T14:53:14.453616",
     "exception": false,
     "start_time": "2022-01-07T14:53:14.349846",
     "status": "completed"
    },
    "tags": []
   },
   "source": [
    "***Defining several evaluation functions for convenience***"
   ]
  },
  {
   "cell_type": "code",
   "execution_count": 19,
   "id": "c670aec2",
   "metadata": {
    "execution": {
     "iopub.execute_input": "2022-01-07T14:53:14.665704Z",
     "iopub.status.busy": "2022-01-07T14:53:14.664984Z",
     "iopub.status.idle": "2022-01-07T14:53:14.671641Z",
     "shell.execute_reply": "2022-01-07T14:53:14.672142Z",
     "shell.execute_reply.started": "2022-01-07T14:43:34.652584Z"
    },
    "papermill": {
     "duration": 0.115217,
     "end_time": "2022-01-07T14:53:14.672327",
     "exception": false,
     "start_time": "2022-01-07T14:53:14.557110",
     "status": "completed"
    },
    "tags": []
   },
   "outputs": [],
   "source": [
    "def rmse_cv(model):\n",
    "    rmse = np.sqrt(-cross_val_score(model, X, y, scoring=\"neg_mean_squared_error\", cv=5)).mean()\n",
    "    return rmse\n",
    "    \n",
    "\n",
    "def evaluation(y, predictions):\n",
    "    mae = mean_absolute_error(y, predictions)\n",
    "    mse = mean_squared_error(y, predictions)\n",
    "    rmse = np.sqrt(mean_squared_error(y, predictions))\n",
    "    r_squared = r2_score(y, predictions)\n",
    "    return mae, mse, rmse, r_squared"
   ]
  },
  {
   "cell_type": "markdown",
   "id": "af18ea59",
   "metadata": {
    "papermill": {
     "duration": 0.103812,
     "end_time": "2022-01-07T14:53:14.880559",
     "exception": false,
     "start_time": "2022-01-07T14:53:14.776747",
     "status": "completed"
    },
    "tags": []
   },
   "source": [
    "<h1 style=\"font-family: 'Times New Roman'; letter-spacing: 0.08em;\">Machine Learning Models</h1>"
   ]
  },
  {
   "cell_type": "code",
   "execution_count": 20,
   "id": "715304cf",
   "metadata": {
    "execution": {
     "iopub.execute_input": "2022-01-07T14:53:15.101493Z",
     "iopub.status.busy": "2022-01-07T14:53:15.100745Z",
     "iopub.status.idle": "2022-01-07T14:53:15.106737Z",
     "shell.execute_reply": "2022-01-07T14:53:15.107262Z",
     "shell.execute_reply.started": "2022-01-07T14:43:34.665439Z"
    },
    "papermill": {
     "duration": 0.118597,
     "end_time": "2022-01-07T14:53:15.107485",
     "exception": false,
     "start_time": "2022-01-07T14:53:14.988888",
     "status": "completed"
    },
    "tags": []
   },
   "outputs": [],
   "source": [
    "models = pd.DataFrame(columns=[\"Model\",\"MAE\",\"MSE\",\"RMSE\",\"R2 Score\",\"RMSE (Cross-Validation)\"])"
   ]
  },
  {
   "cell_type": "markdown",
   "id": "ae0194fa",
   "metadata": {
    "papermill": {
     "duration": 0.108867,
     "end_time": "2022-01-07T14:53:15.322909",
     "exception": false,
     "start_time": "2022-01-07T14:53:15.214042",
     "status": "completed"
    },
    "tags": []
   },
   "source": [
    "<h2 style=\"font-family: 'Times New Roman'; letter-spacing: 0.05em;\">Linear Regression</h2>"
   ]
  },
  {
   "cell_type": "code",
   "execution_count": 19,
   "id": "e3958e72",
   "metadata": {
    "execution": {
     "iopub.execute_input": "2022-01-07T14:53:15.542477Z",
     "iopub.status.busy": "2022-01-07T14:53:15.541740Z",
     "iopub.status.idle": "2022-01-07T14:53:15.632785Z",
     "shell.execute_reply": "2022-01-07T14:53:15.633882Z",
     "shell.execute_reply.started": "2022-01-07T14:43:34.682777Z"
    },
    "papermill": {
     "duration": 0.203309,
     "end_time": "2022-01-07T14:53:15.634247",
     "exception": false,
     "start_time": "2022-01-07T14:53:15.430938",
     "status": "completed"
    },
    "tags": []
   },
   "outputs": [
    {
     "name": "stdout",
     "output_type": "stream",
     "text": [
      "MAE: 23567.890565943395\n",
      "MSE: 1414931404.6297863\n",
      "RMSE: 37615.57396384889\n",
      "R2 Score: 0.8155317822983865\n",
      "------------------------------\n",
      "RMSE Cross-Validation: 36326.451444669496\n"
     ]
    }
   ],
   "source": [
    "lin_reg = LinearRegression()\n",
    "lin_reg.fit(X_train, y_train)\n",
    "predictions = lin_reg.predict(X_test)\n",
    "\n",
    "mae, mse, rmse, r_squared = evaluation(y_test, predictions)\n",
    "print(\"MAE:\", mae)\n",
    "print(\"MSE:\", mse)\n",
    "print(\"RMSE:\", rmse)\n",
    "print(\"R2 Score:\", r_squared)\n",
    "print(\"-\"*30)\n",
    "rmse_cross_val = rmse_cv(lin_reg)\n",
    "print(\"RMSE Cross-Validation:\", rmse_cross_val)\n",
    "\n",
    "new_row = {\"Model\": \"LinearRegression\",\"MAE\": mae, \"MSE\": mse, \"RMSE\": rmse, \"R2 Score\": r_squared, \"RMSE (Cross-Validation)\": rmse_cross_val}\n",
    "models = models.append(new_row, ignore_index=True)"
   ]
  },
  {
   "cell_type": "markdown",
   "id": "69e2cf24",
   "metadata": {
    "papermill": {
     "duration": 0.108289,
     "end_time": "2022-01-07T14:53:15.904370",
     "exception": false,
     "start_time": "2022-01-07T14:53:15.796081",
     "status": "completed"
    },
    "tags": []
   },
   "source": [
    "<h2 style=\"font-family: 'Times New Roman'; letter-spacing: 0.05em;\">Ridge Regression</h2>"
   ]
  },
  {
   "cell_type": "code",
   "execution_count": 20,
   "id": "a0095af1",
   "metadata": {
    "execution": {
     "iopub.execute_input": "2022-01-07T14:53:16.125263Z",
     "iopub.status.busy": "2022-01-07T14:53:16.124591Z",
     "iopub.status.idle": "2022-01-07T14:53:16.201952Z",
     "shell.execute_reply": "2022-01-07T14:53:16.202884Z",
     "shell.execute_reply.started": "2022-01-07T14:43:34.782205Z"
    },
    "papermill": {
     "duration": 0.192599,
     "end_time": "2022-01-07T14:53:16.203172",
     "exception": false,
     "start_time": "2022-01-07T14:53:16.010573",
     "status": "completed"
    },
    "tags": []
   },
   "outputs": [
    {
     "name": "stdout",
     "output_type": "stream",
     "text": [
      "MAE: 23435.50371200822\n",
      "MSE: 1404264216.8595588\n",
      "RMSE: 37473.513537691644\n",
      "R2 Score: 0.8169224907874508\n",
      "------------------------------\n",
      "RMSE Cross-Validation: 35887.852791598336\n"
     ]
    }
   ],
   "source": [
    "ridge = Ridge()\n",
    "ridge.fit(X_train, y_train)\n",
    "predictions = ridge.predict(X_test)\n",
    "\n",
    "mae, mse, rmse, r_squared = evaluation(y_test, predictions)\n",
    "print(\"MAE:\", mae)\n",
    "print(\"MSE:\", mse)\n",
    "print(\"RMSE:\", rmse)\n",
    "print(\"R2 Score:\", r_squared)\n",
    "print(\"-\"*30)\n",
    "rmse_cross_val = rmse_cv(ridge)\n",
    "print(\"RMSE Cross-Validation:\", rmse_cross_val)\n",
    "\n",
    "new_row = {\"Model\": \"Ridge\",\"MAE\": mae, \"MSE\": mse, \"RMSE\": rmse, \"R2 Score\": r_squared, \"RMSE (Cross-Validation)\": rmse_cross_val}\n",
    "models = models.append(new_row, ignore_index=True)"
   ]
  },
  {
   "cell_type": "markdown",
   "id": "b61ddb50",
   "metadata": {
    "papermill": {
     "duration": 0.103788,
     "end_time": "2022-01-07T14:53:16.470822",
     "exception": false,
     "start_time": "2022-01-07T14:53:16.367034",
     "status": "completed"
    },
    "tags": []
   },
   "source": [
    "<h2 style=\"font-family: 'Times New Roman'; letter-spacing: 0.05em;\">Lasso Regression</h2>"
   ]
  },
  {
   "cell_type": "code",
   "execution_count": 21,
   "id": "b1d9c1e2",
   "metadata": {
    "execution": {
     "iopub.execute_input": "2022-01-07T14:53:16.719534Z",
     "iopub.status.busy": "2022-01-07T14:53:16.718709Z",
     "iopub.status.idle": "2022-01-07T14:53:16.988244Z",
     "shell.execute_reply": "2022-01-07T14:53:16.989087Z",
     "shell.execute_reply.started": "2022-01-07T14:43:34.873251Z"
    },
    "papermill": {
     "duration": 0.383321,
     "end_time": "2022-01-07T14:53:16.989364",
     "exception": false,
     "start_time": "2022-01-07T14:53:16.606043",
     "status": "completed"
    },
    "tags": []
   },
   "outputs": [
    {
     "name": "stdout",
     "output_type": "stream",
     "text": [
      "MAE: 23560.45808027236\n",
      "MSE: 1414337628.502095\n",
      "RMSE: 37607.680445649596\n",
      "R2 Score: 0.815609194407292\n",
      "------------------------------\n",
      "RMSE Cross-Validation: 35922.76936876075\n"
     ]
    }
   ],
   "source": [
    "lasso = Lasso()\n",
    "lasso.fit(X_train, y_train)\n",
    "predictions = lasso.predict(X_test)\n",
    "\n",
    "mae, mse, rmse, r_squared = evaluation(y_test, predictions)\n",
    "print(\"MAE:\", mae)\n",
    "print(\"MSE:\", mse)\n",
    "print(\"RMSE:\", rmse)\n",
    "print(\"R2 Score:\", r_squared)\n",
    "print(\"-\"*30)\n",
    "rmse_cross_val = rmse_cv(lasso)\n",
    "print(\"RMSE Cross-Validation:\", rmse_cross_val)\n",
    "\n",
    "new_row = {\"Model\": \"Lasso\",\"MAE\": mae, \"MSE\": mse, \"RMSE\": rmse, \"R2 Score\": r_squared, \"RMSE (Cross-Validation)\": rmse_cross_val}\n",
    "models = models.append(new_row, ignore_index=True)"
   ]
  },
  {
   "cell_type": "markdown",
   "id": "845ce0cc",
   "metadata": {
    "papermill": {
     "duration": 0.104269,
     "end_time": "2022-01-07T14:53:17.252397",
     "exception": false,
     "start_time": "2022-01-07T14:53:17.148128",
     "status": "completed"
    },
    "tags": []
   },
   "source": [
    "<h2 style=\"font-family: 'Times New Roman'; letter-spacing: 0.05em;\">Elastic Net</h2>"
   ]
  },
  {
   "cell_type": "code",
   "execution_count": 22,
   "id": "c318c673",
   "metadata": {
    "execution": {
     "iopub.execute_input": "2022-01-07T14:53:17.472199Z",
     "iopub.status.busy": "2022-01-07T14:53:17.471043Z",
     "iopub.status.idle": "2022-01-07T14:53:17.557495Z",
     "shell.execute_reply": "2022-01-07T14:53:17.558703Z",
     "shell.execute_reply.started": "2022-01-07T14:43:35.170172Z"
    },
    "papermill": {
     "duration": 0.202613,
     "end_time": "2022-01-07T14:53:17.559025",
     "exception": false,
     "start_time": "2022-01-07T14:53:17.356412",
     "status": "completed"
    },
    "tags": []
   },
   "outputs": [
    {
     "name": "stdout",
     "output_type": "stream",
     "text": [
      "MAE: 23792.743784996732\n",
      "MSE: 1718445790.1371393\n",
      "RMSE: 41454.14080809225\n",
      "R2 Score: 0.775961837382229\n",
      "------------------------------\n",
      "RMSE Cross-Validation: 38449.00864609558\n"
     ]
    }
   ],
   "source": [
    "elastic_net = ElasticNet()\n",
    "elastic_net.fit(X_train, y_train)\n",
    "predictions = elastic_net.predict(X_test)\n",
    "\n",
    "mae, mse, rmse, r_squared = evaluation(y_test, predictions)\n",
    "print(\"MAE:\", mae)\n",
    "print(\"MSE:\", mse)\n",
    "print(\"RMSE:\", rmse)\n",
    "print(\"R2 Score:\", r_squared)\n",
    "print(\"-\"*30)\n",
    "rmse_cross_val = rmse_cv(elastic_net)\n",
    "print(\"RMSE Cross-Validation:\", rmse_cross_val)\n",
    "\n",
    "new_row = {\"Model\": \"ElasticNet\",\"MAE\": mae, \"MSE\": mse, \"RMSE\": rmse, \"R2 Score\": r_squared, \"RMSE (Cross-Validation)\": rmse_cross_val}\n",
    "models = models.append(new_row, ignore_index=True)"
   ]
  },
  {
   "cell_type": "markdown",
   "id": "52f0e847",
   "metadata": {
    "papermill": {
     "duration": 0.104365,
     "end_time": "2022-01-07T14:53:17.822719",
     "exception": false,
     "start_time": "2022-01-07T14:53:17.718354",
     "status": "completed"
    },
    "tags": []
   },
   "source": [
    "<h2 style=\"font-family: 'Times New Roman'; letter-spacing: 0.05em;\">Support Vector Machines</h2>"
   ]
  },
  {
   "cell_type": "code",
   "execution_count": 23,
   "id": "05815fa3",
   "metadata": {
    "execution": {
     "iopub.execute_input": "2022-01-07T14:53:18.042725Z",
     "iopub.status.busy": "2022-01-07T14:53:18.041999Z",
     "iopub.status.idle": "2022-01-07T14:53:20.082348Z",
     "shell.execute_reply": "2022-01-07T14:53:20.081506Z",
     "shell.execute_reply.started": "2022-01-07T14:43:35.271995Z"
    },
    "papermill": {
     "duration": 2.154676,
     "end_time": "2022-01-07T14:53:20.082548",
     "exception": false,
     "start_time": "2022-01-07T14:53:17.927872",
     "status": "completed"
    },
    "tags": []
   },
   "outputs": [
    {
     "name": "stdout",
     "output_type": "stream",
     "text": [
      "MAE: 17843.16228084976\n",
      "MSE: 1132136370.3413317\n",
      "RMSE: 33647.234215330864\n",
      "R2 Score: 0.852400492526574\n",
      "------------------------------\n",
      "RMSE Cross-Validation: 30745.475239075837\n"
     ]
    }
   ],
   "source": [
    "svr = SVR(C=100000)\n",
    "svr.fit(X_train, y_train)\n",
    "predictions = svr.predict(X_test)\n",
    "\n",
    "mae, mse, rmse, r_squared = evaluation(y_test, predictions)\n",
    "print(\"MAE:\", mae)\n",
    "print(\"MSE:\", mse)\n",
    "print(\"RMSE:\", rmse)\n",
    "print(\"R2 Score:\", r_squared)\n",
    "print(\"-\"*30)\n",
    "rmse_cross_val = rmse_cv(svr)\n",
    "print(\"RMSE Cross-Validation:\", rmse_cross_val)\n",
    "\n",
    "new_row = {\"Model\": \"SVR\",\"MAE\": mae, \"MSE\": mse, \"RMSE\": rmse, \"R2 Score\": r_squared, \"RMSE (Cross-Validation)\": rmse_cross_val}\n",
    "models = models.append(new_row, ignore_index=True)"
   ]
  },
  {
   "cell_type": "markdown",
   "id": "948891cb",
   "metadata": {
    "papermill": {
     "duration": 0.108617,
     "end_time": "2022-01-07T14:53:20.300130",
     "exception": false,
     "start_time": "2022-01-07T14:53:20.191513",
     "status": "completed"
    },
    "tags": []
   },
   "source": [
    "<h2 style=\"font-family: 'Times New Roman'; letter-spacing: 0.05em;\">Random Forest Regressor</h2>"
   ]
  },
  {
   "cell_type": "code",
   "execution_count": 24,
   "id": "241cd041",
   "metadata": {
    "execution": {
     "iopub.execute_input": "2022-01-07T14:53:20.527238Z",
     "iopub.status.busy": "2022-01-07T14:53:20.525987Z",
     "iopub.status.idle": "2022-01-07T14:53:25.642022Z",
     "shell.execute_reply": "2022-01-07T14:53:25.641305Z",
     "shell.execute_reply.started": "2022-01-07T14:43:37.360513Z"
    },
    "papermill": {
     "duration": 5.233481,
     "end_time": "2022-01-07T14:53:25.642200",
     "exception": false,
     "start_time": "2022-01-07T14:53:20.408719",
     "status": "completed"
    },
    "tags": []
   },
   "outputs": [
    {
     "name": "stdout",
     "output_type": "stream",
     "text": [
      "MAE: 18115.11067351598\n",
      "MSE: 1004422414.0219476\n",
      "RMSE: 31692.623968708358\n",
      "R2 Score: 0.869050886899595\n",
      "------------------------------\n",
      "RMSE Cross-Validation: 31138.863315259332\n"
     ]
    }
   ],
   "source": [
    "random_forest = RandomForestRegressor(n_estimators=100)\n",
    "random_forest.fit(X_train, y_train)\n",
    "predictions = random_forest.predict(X_test)\n",
    "\n",
    "mae, mse, rmse, r_squared = evaluation(y_test, predictions)\n",
    "print(\"MAE:\", mae)\n",
    "print(\"MSE:\", mse)\n",
    "print(\"RMSE:\", rmse)\n",
    "print(\"R2 Score:\", r_squared)\n",
    "print(\"-\"*30)\n",
    "rmse_cross_val = rmse_cv(random_forest)\n",
    "print(\"RMSE Cross-Validation:\", rmse_cross_val)\n",
    "\n",
    "new_row = {\"Model\": \"RandomForestRegressor\",\"MAE\": mae, \"MSE\": mse, \"RMSE\": rmse, \"R2 Score\": r_squared, \"RMSE (Cross-Validation)\": rmse_cross_val}\n",
    "models = models.append(new_row, ignore_index=True)"
   ]
  },
  {
   "cell_type": "markdown",
   "id": "30323e1b",
   "metadata": {
    "papermill": {
     "duration": 0.109493,
     "end_time": "2022-01-07T14:53:25.860909",
     "exception": false,
     "start_time": "2022-01-07T14:53:25.751416",
     "status": "completed"
    },
    "tags": []
   },
   "source": [
    "<h2 style=\"font-family: 'Times New Roman'; letter-spacing: 0.05em;\">XGBoost Regressor</h2>"
   ]
  },
  {
   "cell_type": "code",
   "execution_count": 25,
   "id": "533984be",
   "metadata": {
    "execution": {
     "iopub.execute_input": "2022-01-07T14:53:26.089842Z",
     "iopub.status.busy": "2022-01-07T14:53:26.084772Z",
     "iopub.status.idle": "2022-01-07T14:53:54.806942Z",
     "shell.execute_reply": "2022-01-07T14:53:54.807614Z",
     "shell.execute_reply.started": "2022-01-07T14:43:42.470179Z"
    },
    "papermill": {
     "duration": 28.837253,
     "end_time": "2022-01-07T14:53:54.807829",
     "exception": false,
     "start_time": "2022-01-07T14:53:25.970576",
     "status": "completed"
    },
    "tags": []
   },
   "outputs": [
    {
     "name": "stdout",
     "output_type": "stream",
     "text": [
      "MAE: 17439.918396832192\n",
      "MSE: 716579004.5214689\n",
      "RMSE: 26768.993341578403\n",
      "R2 Score: 0.9065777666861116\n",
      "------------------------------\n",
      "RMSE Cross-Validation: 29698.84961808251\n"
     ]
    }
   ],
   "source": [
    "xgb = XGBRegressor(n_estimators=1000, learning_rate=0.01)\n",
    "xgb.fit(X_train, y_train)\n",
    "predictions = xgb.predict(X_test)\n",
    "\n",
    "mae, mse, rmse, r_squared = evaluation(y_test, predictions)\n",
    "print(\"MAE:\", mae)\n",
    "print(\"MSE:\", mse)\n",
    "print(\"RMSE:\", rmse)\n",
    "print(\"R2 Score:\", r_squared)\n",
    "print(\"-\"*30)\n",
    "rmse_cross_val = rmse_cv(xgb)\n",
    "print(\"RMSE Cross-Validation:\", rmse_cross_val)\n",
    "\n",
    "new_row = {\"Model\": \"XGBRegressor\",\"MAE\": mae, \"MSE\": mse, \"RMSE\": rmse, \"R2 Score\": r_squared, \"RMSE (Cross-Validation)\": rmse_cross_val}\n",
    "models = models.append(new_row, ignore_index=True)"
   ]
  },
  {
   "cell_type": "markdown",
   "id": "01268a36",
   "metadata": {
    "papermill": {
     "duration": 0.111065,
     "end_time": "2022-01-07T14:53:55.032337",
     "exception": false,
     "start_time": "2022-01-07T14:53:54.921272",
     "status": "completed"
    },
    "tags": []
   },
   "source": [
    "<h2 style=\"font-family: 'Times New Roman'; letter-spacing: 0.05em;\">Polynomial Regression (Degree=2)</h2>"
   ]
  },
  {
   "cell_type": "code",
   "execution_count": 26,
   "id": "60f64143",
   "metadata": {
    "execution": {
     "iopub.execute_input": "2022-01-07T14:53:55.264447Z",
     "iopub.status.busy": "2022-01-07T14:53:55.263729Z",
     "iopub.status.idle": "2022-01-07T14:53:55.704731Z",
     "shell.execute_reply": "2022-01-07T14:53:55.705601Z",
     "shell.execute_reply.started": "2022-01-07T14:44:08.099364Z"
    },
    "papermill": {
     "duration": 0.563133,
     "end_time": "2022-01-07T14:53:55.705916",
     "exception": false,
     "start_time": "2022-01-07T14:53:55.142783",
     "status": "completed"
    },
    "tags": []
   },
   "outputs": [
    {
     "name": "stdout",
     "output_type": "stream",
     "text": [
      "MAE: 2382228327828308.5\n",
      "MSE: 1.5139911544182342e+32\n",
      "RMSE: 1.230443478758059e+16\n",
      "R2 Score: -1.9738289005226644e+22\n",
      "------------------------------\n",
      "RMSE Cross-Validation: 36326.451444669496\n"
     ]
    }
   ],
   "source": [
    "poly_reg = PolynomialFeatures(degree=2)\n",
    "X_train_2d = poly_reg.fit_transform(X_train)\n",
    "X_test_2d = poly_reg.transform(X_test)\n",
    "\n",
    "lin_reg = LinearRegression()\n",
    "lin_reg.fit(X_train_2d, y_train)\n",
    "predictions = lin_reg.predict(X_test_2d)\n",
    "\n",
    "mae, mse, rmse, r_squared = evaluation(y_test, predictions)\n",
    "print(\"MAE:\", mae)\n",
    "print(\"MSE:\", mse)\n",
    "print(\"RMSE:\", rmse)\n",
    "print(\"R2 Score:\", r_squared)\n",
    "print(\"-\"*30)\n",
    "rmse_cross_val = rmse_cv(lin_reg)\n",
    "print(\"RMSE Cross-Validation:\", rmse_cross_val)\n",
    "\n",
    "new_row = {\"Model\": \"Polynomial Regression (degree=2)\",\"MAE\": mae, \"MSE\": mse, \"RMSE\": rmse, \"R2 Score\": r_squared, \"RMSE (Cross-Validation)\": rmse_cross_val}\n",
    "models = models.append(new_row, ignore_index=True)"
   ]
  },
  {
   "cell_type": "markdown",
   "id": "95a4f5b1",
   "metadata": {
    "papermill": {
     "duration": 0.110909,
     "end_time": "2022-01-07T14:53:55.982058",
     "exception": false,
     "start_time": "2022-01-07T14:53:55.871149",
     "status": "completed"
    },
    "tags": []
   },
   "source": [
    "<h1 style=\"font-family: 'Times New Roman'; letter-spacing: 0.08em;\">Model Comparison</h1>"
   ]
  },
  {
   "cell_type": "markdown",
   "id": "5d3d9d60",
   "metadata": {
    "papermill": {
     "duration": 0.109875,
     "end_time": "2022-01-07T14:53:56.205726",
     "exception": false,
     "start_time": "2022-01-07T14:53:56.095851",
     "status": "completed"
    },
    "tags": []
   },
   "source": [
    "***The less the Root Mean Squared Error (RMSE), The better the model is.***"
   ]
  },
  {
   "cell_type": "code",
   "execution_count": 27,
   "id": "da432aa2",
   "metadata": {
    "execution": {
     "iopub.execute_input": "2022-01-07T14:53:56.442625Z",
     "iopub.status.busy": "2022-01-07T14:53:56.432898Z",
     "iopub.status.idle": "2022-01-07T14:53:56.444702Z",
     "shell.execute_reply": "2022-01-07T14:53:56.445302Z",
     "shell.execute_reply.started": "2022-01-07T14:44:08.469751Z"
    },
    "papermill": {
     "duration": 0.129669,
     "end_time": "2022-01-07T14:53:56.445518",
     "exception": false,
     "start_time": "2022-01-07T14:53:56.315849",
     "status": "completed"
    },
    "tags": []
   },
   "outputs": [
    {
     "data": {
      "text/html": [
       "<div>\n",
       "<style scoped>\n",
       "    .dataframe tbody tr th:only-of-type {\n",
       "        vertical-align: middle;\n",
       "    }\n",
       "\n",
       "    .dataframe tbody tr th {\n",
       "        vertical-align: top;\n",
       "    }\n",
       "\n",
       "    .dataframe thead th {\n",
       "        text-align: right;\n",
       "    }\n",
       "</style>\n",
       "<table border=\"1\" class=\"dataframe\">\n",
       "  <thead>\n",
       "    <tr style=\"text-align: right;\">\n",
       "      <th></th>\n",
       "      <th>Model</th>\n",
       "      <th>MAE</th>\n",
       "      <th>MSE</th>\n",
       "      <th>RMSE</th>\n",
       "      <th>R2 Score</th>\n",
       "      <th>RMSE (Cross-Validation)</th>\n",
       "    </tr>\n",
       "  </thead>\n",
       "  <tbody>\n",
       "    <tr>\n",
       "      <th>6</th>\n",
       "      <td>XGBRegressor</td>\n",
       "      <td>1.743992e+04</td>\n",
       "      <td>7.165790e+08</td>\n",
       "      <td>2.676899e+04</td>\n",
       "      <td>9.065778e-01</td>\n",
       "      <td>29698.849618</td>\n",
       "    </tr>\n",
       "    <tr>\n",
       "      <th>4</th>\n",
       "      <td>SVR</td>\n",
       "      <td>1.784316e+04</td>\n",
       "      <td>1.132136e+09</td>\n",
       "      <td>3.364723e+04</td>\n",
       "      <td>8.524005e-01</td>\n",
       "      <td>30745.475239</td>\n",
       "    </tr>\n",
       "    <tr>\n",
       "      <th>5</th>\n",
       "      <td>RandomForestRegressor</td>\n",
       "      <td>1.811511e+04</td>\n",
       "      <td>1.004422e+09</td>\n",
       "      <td>3.169262e+04</td>\n",
       "      <td>8.690509e-01</td>\n",
       "      <td>31138.863315</td>\n",
       "    </tr>\n",
       "    <tr>\n",
       "      <th>1</th>\n",
       "      <td>Ridge</td>\n",
       "      <td>2.343550e+04</td>\n",
       "      <td>1.404264e+09</td>\n",
       "      <td>3.747351e+04</td>\n",
       "      <td>8.169225e-01</td>\n",
       "      <td>35887.852792</td>\n",
       "    </tr>\n",
       "    <tr>\n",
       "      <th>2</th>\n",
       "      <td>Lasso</td>\n",
       "      <td>2.356046e+04</td>\n",
       "      <td>1.414338e+09</td>\n",
       "      <td>3.760768e+04</td>\n",
       "      <td>8.156092e-01</td>\n",
       "      <td>35922.769369</td>\n",
       "    </tr>\n",
       "    <tr>\n",
       "      <th>0</th>\n",
       "      <td>LinearRegression</td>\n",
       "      <td>2.356789e+04</td>\n",
       "      <td>1.414931e+09</td>\n",
       "      <td>3.761557e+04</td>\n",
       "      <td>8.155318e-01</td>\n",
       "      <td>36326.451445</td>\n",
       "    </tr>\n",
       "    <tr>\n",
       "      <th>7</th>\n",
       "      <td>Polynomial Regression (degree=2)</td>\n",
       "      <td>2.382228e+15</td>\n",
       "      <td>1.513991e+32</td>\n",
       "      <td>1.230443e+16</td>\n",
       "      <td>-1.973829e+22</td>\n",
       "      <td>36326.451445</td>\n",
       "    </tr>\n",
       "    <tr>\n",
       "      <th>3</th>\n",
       "      <td>ElasticNet</td>\n",
       "      <td>2.379274e+04</td>\n",
       "      <td>1.718446e+09</td>\n",
       "      <td>4.145414e+04</td>\n",
       "      <td>7.759618e-01</td>\n",
       "      <td>38449.008646</td>\n",
       "    </tr>\n",
       "  </tbody>\n",
       "</table>\n",
       "</div>"
      ],
      "text/plain": [
       "                              Model           MAE           MSE          RMSE  \\\n",
       "6                      XGBRegressor  1.743992e+04  7.165790e+08  2.676899e+04   \n",
       "4                               SVR  1.784316e+04  1.132136e+09  3.364723e+04   \n",
       "5             RandomForestRegressor  1.811511e+04  1.004422e+09  3.169262e+04   \n",
       "1                             Ridge  2.343550e+04  1.404264e+09  3.747351e+04   \n",
       "2                             Lasso  2.356046e+04  1.414338e+09  3.760768e+04   \n",
       "0                  LinearRegression  2.356789e+04  1.414931e+09  3.761557e+04   \n",
       "7  Polynomial Regression (degree=2)  2.382228e+15  1.513991e+32  1.230443e+16   \n",
       "3                        ElasticNet  2.379274e+04  1.718446e+09  4.145414e+04   \n",
       "\n",
       "       R2 Score  RMSE (Cross-Validation)  \n",
       "6  9.065778e-01             29698.849618  \n",
       "4  8.524005e-01             30745.475239  \n",
       "5  8.690509e-01             31138.863315  \n",
       "1  8.169225e-01             35887.852792  \n",
       "2  8.156092e-01             35922.769369  \n",
       "0  8.155318e-01             36326.451445  \n",
       "7 -1.973829e+22             36326.451445  \n",
       "3  7.759618e-01             38449.008646  "
      ]
     },
     "execution_count": 27,
     "metadata": {},
     "output_type": "execute_result"
    }
   ],
   "source": [
    "models.sort_values(by=\"RMSE (Cross-Validation)\")"
   ]
  },
  {
   "cell_type": "code",
   "execution_count": 28,
   "id": "05d6b92f",
   "metadata": {
    "execution": {
     "iopub.execute_input": "2022-01-07T14:53:56.672035Z",
     "iopub.status.busy": "2022-01-07T14:53:56.671377Z",
     "iopub.status.idle": "2022-01-07T14:53:56.902602Z",
     "shell.execute_reply": "2022-01-07T14:53:56.901922Z",
     "shell.execute_reply.started": "2022-01-07T14:44:08.498094Z"
    },
    "papermill": {
     "duration": 0.345524,
     "end_time": "2022-01-07T14:53:56.902762",
     "exception": false,
     "start_time": "2022-01-07T14:53:56.557238",
     "status": "completed"
    },
    "tags": []
   },
   "outputs": [
    {
     "data": {
      "image/png": "[encoded data removed]",
      "text/plain": [
       "<Figure size 864x576 with 1 Axes>"
      ]
     },
     "metadata": {
      "needs_background": "light"
     },
     "output_type": "display_data"
    }
   ],
   "source": [
    "plt.figure(figsize=(12,8))\n",
    "sns.barplot(x=models[\"Model\"], y=models[\"RMSE (Cross-Validation)\"])\n",
    "plt.title(\"Models' RMSE Scores (Cross-Validated)\", size=15)\n",
    "plt.xticks(rotation=30, size=12)\n",
    "plt.show()"
   ]
  }
 ],
 "metadata": {
  "kernelspec": {
   "display_name": "Python 3 (ipykernel)",
   "language": "python",
   "name": "python3"
  },
  "language_info": {
   "codemirror_mode": {
    "name": "ipython",
    "version": 3
   },
   "file_extension": ".py",
   "mimetype": "text/x-python",
   "name": "python",
   "nbconvert_exporter": "python",
   "pygments_lexer": "ipython3",
   "version": "3.9.13"
  },
  "papermill": {
   "default_parameters": {},
   "duration": 106.517994,
   "end_time": "2022-01-07T14:53:58.655218",
   "environment_variables": {},
   "exception": null,
   "input_path": "__notebook__.ipynb",
   "output_path": "__notebook__.ipynb",
   "parameters": {},
   "start_time": "2022-01-07T14:52:12.137224",
   "version": "2.3.3"
  }
 },
 "nbformat": 4,
 "nbformat_minor": 5
}
